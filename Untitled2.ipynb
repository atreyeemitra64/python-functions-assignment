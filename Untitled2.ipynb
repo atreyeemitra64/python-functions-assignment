{
 "cells": [
  {
   "cell_type": "code",
   "execution_count": 1,
   "id": "24933d95-9137-4e2b-b3bd-d3d135f3f6e3",
   "metadata": {},
   "outputs": [],
   "source": [
    "#THEORY QUESTIONS"
   ]
  },
  {
   "cell_type": "code",
   "execution_count": null,
   "id": "d17303f1-6f10-49e2-b676-04c49be9ee3d",
   "metadata": {},
   "outputs": [],
   "source": [
    "#(Q1)What is the difference between a function and a method in python?\n",
    "#In python,methods and functions have similar purposes but differ in important ways.\n",
    "#Methods:\n",
    "\n",
    "#1 Method is called by its name, but it is associated to an object (dependent).\n",
    "#2 A method definition always includes ‘self’ as its first parameter.\n",
    "#3 A method is implicitly passed to the object on which it is invoked.\n",
    "#4 It may or may not return any data.\n",
    "#5 A method can operate on the data (instance variables) that is contained by the corresponding class."
   ]
  },
  {
   "cell_type": "code",
   "execution_count": 6,
   "id": "8c9ff6ce-dd5f-4f69-ba7e-5b6132592d6f",
   "metadata": {},
   "outputs": [
    {
     "name": "stdout",
     "output_type": "stream",
     "text": [
      "Ceiling value of 15.25 is :  16\n"
     ]
    }
   ],
   "source": [
    "#example of inbuilt method in python\n",
    "import math\n",
    " \n",
    "ceil_val = math.ceil(15.25)\n",
    "print( \"Ceiling value of 15.25 is : \", ceil_val) "
   ]
  },
  {
   "cell_type": "code",
   "execution_count": 7,
   "id": "26f9a980-dfb2-4f56-b3f5-513a6e7590f9",
   "metadata": {},
   "outputs": [],
   "source": [
    "#Functions:\n",
    "\n",
    "#1 Function is block of code that is also called by its name. (independent)\n",
    "#2 The function can have different parameters or may not have any at all. If any data (parameters) are passed, they are passed explicitly.\n",
    "#3 It may or may not return any data.\n",
    "#4 Function does not deal with Class and its instance concept."
   ]
  },
  {
   "cell_type": "code",
   "execution_count": 9,
   "id": "60f941a6-ae4c-4a8b-8d43-4aa0057440df",
   "metadata": {},
   "outputs": [
    {
     "name": "stdout",
     "output_type": "stream",
     "text": [
      "22\n",
      "15\n"
     ]
    }
   ],
   "source": [
    "#example of inbuilt function in python\n",
    "s = sum([5, 15, 2])\n",
    "print( s ) # prints 22\n",
    "\n",
    "mx = max(15, 6)\n",
    "print( mx ) # prints 15\n"
   ]
  },
  {
   "cell_type": "code",
   "execution_count": 10,
   "id": "85993de4-1702-42af-b19a-34dd324eade7",
   "metadata": {},
   "outputs": [],
   "source": [
    "#Difference between method and function\n",
    "\n",
    "#1 Simply, function and method both look similar as they perform in almost similar way, but the key difference is the concept of ‘Class and its Object‘.\n",
    "#2 Functions can be called only by its name, as it is defined independently. But methods can’t be called by its name only, we need to invoke the class by a reference of that class in which it is defined, i.e. method is defined within a class and hence they are dependent on that class.\n",
    "\n"
   ]
  },
  {
   "cell_type": "code",
   "execution_count": 12,
   "id": "de446171-9126-45d8-a1b9-7bf31d9e3ef2",
   "metadata": {},
   "outputs": [
    {
     "name": "stdout",
     "output_type": "stream",
     "text": [
      "3\n"
     ]
    }
   ],
   "source": [
    "#(Q2)Explain the concept of function arguments and parameters in python.\n",
    "#Parameters:\n",
    "#A parameter is the variable defined within the parentheses during function definition. Simply they are written when we declare a function. \n",
    "#example\n",
    "#Here a,b are the parameters\n",
    "def sum(a,b):\n",
    "  print(a+b)\n",
    "  \n",
    "sum(1,2)\n"
   ]
  },
  {
   "cell_type": "code",
   "execution_count": 13,
   "id": "5afd6184-0ea6-4479-9a06-cfdab87851b9",
   "metadata": {},
   "outputs": [
    {
     "name": "stdout",
     "output_type": "stream",
     "text": [
      "3\n"
     ]
    }
   ],
   "source": [
    "#Arguments:\n",
    "#An argument is a value that is passed to a function when it is called. It might be a variable, value or object passed to a function or method as input. They are written when we are calling the function.\n",
    "#example\n",
    "def sum(a,b):\n",
    "  print(a+b)\n",
    "  \n",
    "# Here the values 1,2 are arguments\n",
    "sum(1,2)\n"
   ]
  },
  {
   "cell_type": "code",
   "execution_count": 14,
   "id": "7be3845a-c240-47d1-ba35-33da859a48f4",
   "metadata": {},
   "outputs": [
    {
     "name": "stdout",
     "output_type": "stream",
     "text": [
      "RamBabu\n"
     ]
    }
   ],
   "source": [
    "#Types of arguments in python:\n",
    "#Python functions can contain two types of arguments:\n",
    "\n",
    "#1Positional Arguments\n",
    "#2Keyword Arguments\n",
    "#Positional Arguments:\n",
    "#Positional Arguments are needed to be included in proper order i.e the first argument is always listed first when the function is called, second argument needs to be called second and so on.\n",
    "def person_name(first_name,second_name):\n",
    "  print(first_name+second_name)\n",
    "  \n",
    "# First name is Ram placed first\n",
    "# Second name is Babu place second\n",
    "person_name(\"Ram\",\"Babu\")\n"
   ]
  },
  {
   "cell_type": "code",
   "execution_count": 15,
   "id": "254b2184-da39-4f85-82bf-56cdedecdf0d",
   "metadata": {},
   "outputs": [
    {
     "name": "stdout",
     "output_type": "stream",
     "text": [
      "RamBabu\n"
     ]
    }
   ],
   "source": [
    "#Keyword Arguments:\n",
    "#Keyword Arguments is an argument passed to a function or method which is preceded by a keyword and an equal to sign. The order of keyword argument with respect to another keyword argument does not matter because the values are being explicitly assigned.\n",
    "def person_name(first_name,second_name):\n",
    "  print(first_name+second_name)\n",
    "\n",
    "# Here we are explicitly assigning the values \n",
    "person_name(second_name=\"Babu\",first_name=\"Ram\")\n"
   ]
  },
  {
   "cell_type": "code",
   "execution_count": 17,
   "id": "aa2cb468-dcb2-4879-ac3f-a01461b73f58",
   "metadata": {},
   "outputs": [],
   "source": [
    "#(Q3)What are the different ways to define and call a function in python?\n",
    "#Creating a Function in Python\n",
    "#We can define a function in Python, using the def keyword. We can add any type of functionalities and properties to it as we require. By the following example, we can understand how to write a function in Python. In this way we can create Python function definition by using def keyword.\n",
    "# A simple Python function\n",
    "def fun():\n",
    "    print(\"Welcome to pwskills\")\n"
   ]
  },
  {
   "cell_type": "code",
   "execution_count": 18,
   "id": "942606be-70b9-4c91-b1d4-19a36fe00e02",
   "metadata": {},
   "outputs": [
    {
     "name": "stdout",
     "output_type": "stream",
     "text": [
      "Welcome to pwskills\n"
     ]
    }
   ],
   "source": [
    "#Calling a Function in Python\n",
    "#After creating a function in Python we can call it by using the name of the functions Python followed by parenthesis containing parameters of that particular function. Below is the example for calling def function Python.\n",
    "# A simple Python function\n",
    "def fun():\n",
    "    print(\"Welcome to pwskills\")\n",
    "\n",
    "\n",
    "# Driver code to call a function\n",
    "fun()\n"
   ]
  },
  {
   "cell_type": "code",
   "execution_count": 20,
   "id": "08fa9525-7242-462d-b90f-ef7e0d69d445",
   "metadata": {},
   "outputs": [],
   "source": [
    "#(Q4)What is the purpose of the 'return' statement in a python function?\n",
    "#A return statement is used to end the execution of the function call and “returns” the result (value of the expression following the return keyword) to the caller. The statements after the return statements are not executed. If the return statement is without any expression, then the special value None is returned. A return statement is overall used to invoke a function so that the passed statements can be executed.\n",
    "\n",
    "#Note: Return statement can not be used outside the function.\n",
    "#Example:\n",
    "\n",
    "def cube(x):\n",
    "   r=x**3\n",
    "   return r"
   ]
  },
  {
   "cell_type": "code",
   "execution_count": 21,
   "id": "9431a54b-4474-4fe2-8514-f4586e82cc25",
   "metadata": {},
   "outputs": [
    {
     "ename": "TypeError",
     "evalue": "'str' object is not an iterator",
     "output_type": "error",
     "traceback": [
      "\u001b[0;31m---------------------------------------------------------------------------\u001b[0m",
      "\u001b[0;31mTypeError\u001b[0m                                 Traceback (most recent call last)",
      "Cell \u001b[0;32mIn[21], line 13\u001b[0m\n\u001b[1;32m      1\u001b[0m \u001b[38;5;66;03m#(Q5)What are iterators in python and how do they differ from iterables?\u001b[39;00m\n\u001b[1;32m      2\u001b[0m \u001b[38;5;66;03m#Iterable is an object, that one can iterate over. It generates an Iterator when passed to iter() method. An iterator is an object, which is used to iterate over an iterable object using the __next__() method. Iterators have the __next__() method, which returns the next item of the object.\u001b[39;00m\n\u001b[1;32m      3\u001b[0m \n\u001b[0;32m   (...)\u001b[0m\n\u001b[1;32m     11\u001b[0m \n\u001b[1;32m     12\u001b[0m \u001b[38;5;66;03m# code\u001b[39;00m\n\u001b[0;32m---> 13\u001b[0m \u001b[38;5;28;43mnext\u001b[39;49m\u001b[43m(\u001b[49m\u001b[38;5;124;43m\"\u001b[39;49m\u001b[38;5;124;43mGFG\u001b[39;49m\u001b[38;5;124;43m\"\u001b[39;49m\u001b[43m)\u001b[49m\n",
      "\u001b[0;31mTypeError\u001b[0m: 'str' object is not an iterator"
     ]
    }
   ],
   "source": [
    "#(Q5)What are iterators in python and how do they differ from iterables?\n",
    "#Iterable is an object, that one can iterate over. It generates an Iterator when passed to iter() method. An iterator is an object, which is used to iterate over an iterable object using the __next__() method. Iterators have the __next__() method, which returns the next item of the object.\n",
    "\n",
    "#Note: Every iterator is also an iterable, but not every iterable is an iterator in Python.\n",
    "\n",
    "#For example, a list is iterable but a list is not an iterator. An iterator can be created from an iterable by using the function iter(). To make this possible, the class of an object needs either a method __iter__, which returns an iterator, or a __getitem__ method with sequential indexes starting with 0. \n",
    "\n",
    "#Example 1: \n",
    "#We know that str is iterable but it is not an iterator. where if we run this in for loop to print string then it is possible because when for loop executes it converts into an iterator to execute the code.\n",
    "\n",
    "\n",
    "# code\n",
    "next(\"GFG\")"
   ]
  },
  {
   "cell_type": "code",
   "execution_count": 24,
   "id": "e0c92eb0-eb73-4a29-8295-30bb27fc33d2",
   "metadata": {},
   "outputs": [
    {
     "name": "stdout",
     "output_type": "stream",
     "text": [
      "<str_iterator object at 0x7b1d241011e0>\n",
      "P\n",
      "W\n",
      "S\n"
     ]
    }
   ],
   "source": [
    "#Here iter( ) is converting s which is a string (iterable) into an iterator and prints G for the first time we can call multiple times to iterate over strings.\n",
    "\n",
    "#When a for loop is executed, for statement calls iter() on the object, which it is supposed to loop over. \n",
    "#If this call is successful, the iter call will return an iterator object that defines the method __next__(), which accesses elements of the object one at a time.                                                                                                                                          \n",
    "\n",
    "\n",
    "# code\n",
    "s=\"PWS\"\n",
    "s=iter(s)\n",
    "print(s)\n",
    "print(next(s))\n",
    "print(next(s))\n",
    "print(next(s))"
   ]
  },
  {
   "cell_type": "code",
   "execution_count": 27,
   "id": "f466c6b0-3ccf-46ff-94d2-43dfd3498500",
   "metadata": {},
   "outputs": [
    {
     "name": "stdout",
     "output_type": "stream",
     "text": [
      "Berlin\n",
      "Vienna\n",
      "Zurich\n"
     ]
    }
   ],
   "source": [
    "#The __next__() method will raise a StopIteration exception if there are no further elements available. \n",
    "#The for loop will terminate as soon as it catches a StopIteration exception.   \n",
    "#Let’s call the __next__() method using the next() built-in function. \n",
    "\n",
    "#Example 2:\n",
    "#Function ‘iterable’ will return True if the object ‘obj’ is an iterable and False otherwise. \n",
    "\n",
    "\n",
    "# list of cities\n",
    "cities = [\"Berlin\", \"Vienna\", \"Zurich\"]\n",
    " \n",
    "# initialize the object\n",
    "iterator_obj = iter(cities)\n",
    " \n",
    "print(next(iterator_obj))\n",
    "print(next(iterator_obj))\n",
    "print(next(iterator_obj))"
   ]
  },
  {
   "cell_type": "code",
   "execution_count": 28,
   "id": "15166eb1-96fe-4b19-b274-3cfde853019a",
   "metadata": {},
   "outputs": [
    {
     "name": "stdout",
     "output_type": "stream",
     "text": [
      "34 is iterable : False\n",
      "[4, 5] is iterable : True\n",
      "(4, 5) is iterable : True\n",
      "{'a': 4} is iterable : True\n",
      "dfsdf is iterable : True\n",
      "4.5 is iterable : False\n"
     ]
    }
   ],
   "source": [
    "#Note: If ‘next(iterator_obj)’ is called one more time, it would return ‘StopIteration’.   \n",
    "\n",
    "#Example3:\n",
    "#Check object is iterable or not.\n",
    "\n",
    "\n",
    "# Function to check object\n",
    "# is iterable or not\n",
    "def it(ob):\n",
    "  try:\n",
    "      iter(ob)\n",
    "      return True\n",
    "  except TypeError:\n",
    "      return False\n",
    " \n",
    "# Driver Code\n",
    "for i in [34, [4, 5], (4, 5),\n",
    "{\"a\":4}, \"dfsdf\", 4.5]:\n",
    " \n",
    "    print(i,\"is iterable :\",it(i))"
   ]
  },
  {
   "cell_type": "code",
   "execution_count": 29,
   "id": "45009217-1d6c-4828-8871-930bc59a7b4e",
   "metadata": {},
   "outputs": [
    {
     "name": "stdout",
     "output_type": "stream",
     "text": [
      "1\n",
      "2\n",
      "3\n"
     ]
    }
   ],
   "source": [
    "#(Q6)Explain the concept of generators in python and how they are defined.\n",
    "#A generator function in Python is defined like a normal function, but whenever it needs to generate a value, it does so with the yield keyword rather than return. If the body of a def contains yield, the function automatically becomes a Python generator function. \n",
    "\n",
    "#Create a Generator in Python\n",
    "#In Python, we can create a generator function by simply using the def keyword and the yield keyword. The generator has the following syntax in Python:\n",
    "\n",
    "def function_name():\n",
    "    yield statement \n",
    "#Example:\n",
    "\n",
    "#In this example, we will create a simple generator that will yield three integers. Then we will print these integers by using Python for loop.\n",
    "\n",
    "\n",
    "# A generator function that yields 1 for first time,\n",
    "# 2 second time and 3 third time\n",
    "def simpleGeneratorFun():\n",
    "    yield 1            \n",
    "    yield 2            \n",
    "    yield 3            \n",
    " \n",
    "# Driver code to check above generator function\n",
    "for value in simpleGeneratorFun(): \n",
    "    print(value)"
   ]
  },
  {
   "cell_type": "code",
   "execution_count": 30,
   "id": "ac6809c6-cb19-4755-b7dd-60da20804ee5",
   "metadata": {},
   "outputs": [
    {
     "name": "stdout",
     "output_type": "stream",
     "text": [
      "1\n",
      "2\n",
      "3\n"
     ]
    }
   ],
   "source": [
    "#Generator Object\n",
    "#Python Generator functions return a generator object that is iterable, i.e., can be used as an Iterator. Generator objects are used either by calling the next method of the generator object or using the generator object in a “for in” loop.\n",
    "\n",
    "#Example:\n",
    "\n",
    "#In this example, we will create a simple generator function in Python to generate objects using the next() function.\n",
    "\n",
    "\n",
    "# A Python program to demonstrate use of \n",
    "# generator object with next() \n",
    "\n",
    "# A generator function\n",
    "def simpleGeneratorFun():\n",
    "    yield 1\n",
    "    yield 2\n",
    "    yield 3\n",
    " \n",
    "# x is a generator object\n",
    "x = simpleGeneratorFun()\n",
    "\n",
    "# Iterating over the generator object using next\n",
    "\n",
    "# In Python 3, __next__()\n",
    "print(next(x))\n",
    "print(next(x))\n",
    "print(next(x))"
   ]
  },
  {
   "cell_type": "code",
   "execution_count": 31,
   "id": "75fe5263-a8ae-4c7c-8f62-108aeab3963b",
   "metadata": {},
   "outputs": [
    {
     "name": "stdout",
     "output_type": "stream",
     "text": [
      "1\n",
      "1\n",
      "2\n",
      "3\n",
      "5\n",
      "8\n",
      "13\n",
      "21\n",
      "34\n",
      "55\n",
      "89\n",
      "144\n"
     ]
    }
   ],
   "source": [
    "#Example:\n",
    "\n",
    "#In this example, we will create two generators for Fibonacci Numbers, first a simple generator and second generator using a for loop.\n",
    "\n",
    "\n",
    "def fib(limit):\n",
    "    a, b = 0, 1\n",
    "    while b < limit:\n",
    "        yield b\n",
    "        a, b = b, a + b\n",
    "\n",
    "# Create a generator object\n",
    "x = fib(200)\n",
    "\n",
    "# Iterate over the generator object and print each value\n",
    "for i in x:\n",
    "    print(i)\n"
   ]
  },
  {
   "cell_type": "code",
   "execution_count": 32,
   "id": "a6c719ef-6f60-4ef5-98ac-ff48691f56aa",
   "metadata": {},
   "outputs": [],
   "source": [
    "#(7)What are the advantages of using generators over regular functions?\n",
    "#Memory Efficiency: Generators generate values on the fly, reducing memory usage compared to storing the entire sequence in memory.\n",
    "\n",
    "#Lazy Evaluation: Values are computed only when needed, which can lead to performance improvements, especially with large datasets.\n",
    "\n",
    "#Maintain State: Generators automatically maintain their state between yield statements, making them suitable for iterative processes.\n",
    "\n",
    "#Convenience: Generators simplify code for iterating over large datasets or streams of data without needing to manage state explicitly."
   ]
  },
  {
   "cell_type": "code",
   "execution_count": 33,
   "id": "1b99e751-a33a-42ef-a615-5a64fa13e65e",
   "metadata": {},
   "outputs": [
    {
     "name": "stdout",
     "output_type": "stream",
     "text": [
      "PWSKILLS\n"
     ]
    }
   ],
   "source": [
    "#(8)What is the lambda function in python and when is it typically used?\n",
    "#Python Lambda Functions are anonymous functions means that the function is without a name. As we already know the def keyword is used to define a normal function in Python. Similarly, the lambda keyword is used to define an anonymous function in Python. \n",
    "#Python Lambda Function Example\n",
    "#In the example, we defined a lambda function(upper) to convert a string to its upper case using upper().\n",
    "\n",
    "#This code defines a lambda function named upper that takes a string as its argument and converts it to uppercase using the upper() method. It then applies this lambda function to the string ‘GeeksforGeeks’ and prints the result\n",
    "str1 = 'pwskills'\n",
    "\n",
    "upper = lambda string: string.upper()\n",
    "print(upper(str1))\n"
   ]
  },
  {
   "cell_type": "code",
   "execution_count": 34,
   "id": "210f8ab3-5484-4951-a86c-863ee50a80d5",
   "metadata": {},
   "outputs": [
    {
     "name": "stdout",
     "output_type": "stream",
     "text": [
      "10\n",
      "20\n",
      "30\n",
      "40\n"
     ]
    }
   ],
   "source": [
    "#Uses of Python lambda function\n",
    "#Python Lambda Function with List Comprehension\n",
    "#On each iteration inside the list comprehension, we are creating a new lambda function with a default argument of x (where x is the current item in the iteration). Later, inside the for loop, we are calling the same function object having the default argument using item() and get the desired value. Thus, is_even_list stores the list of lambda function objects.\n",
    "is_even_list = [lambda arg=x: arg * 10 for x in range(1, 5)]\n",
    "for item in is_even_list:\n",
    "    print(item())\n",
    "\n",
    "\n"
   ]
  },
  {
   "cell_type": "code",
   "execution_count": 35,
   "id": "d5dfd9c9-9e30-4978-9ca2-13a1a5725dbe",
   "metadata": {},
   "outputs": [
    {
     "name": "stdout",
     "output_type": "stream",
     "text": [
      "2\n"
     ]
    }
   ],
   "source": [
    "#Python Lambda Function with if-else\n",
    "#Here we are using the Max lambda function to find the maximum of two integers.\n",
    "Max = lambda a, b : a if(a > b) else b\n",
    "print(Max(1, 2))\n"
   ]
  },
  {
   "cell_type": "code",
   "execution_count": 36,
   "id": "1f2567ef-f18d-417b-9b82-a81d4841bc6c",
   "metadata": {},
   "outputs": [
    {
     "name": "stdout",
     "output_type": "stream",
     "text": [
      "[3, 16, 9]\n"
     ]
    }
   ],
   "source": [
    "#Python Lambda with Multiple Statements\n",
    "#Lambda functions do not allow multiple statements, however, we can create two lambda functions and then call the other lambda function as a parameter to the first function. Let’s try to find the second maximum element using lambda.\n",
    "\n",
    "#The code defines a list of sublists called ‘List'. It uses lambda functions to sort each sublist and find the second-largest element in each sublist. The result is a list of second-largest elements, which is then printed. The output displays the second-largest element from each sublist in the original list.\n",
    "List = [[2,3,4],[1, 4, 16, 64],[3, 6, 9, 12]]\n",
    "\n",
    "sortList = lambda x: (sorted(i) for i in x)\n",
    "secondLargest = lambda x, f : [y[len(y)-2] for y in f(x)]\n",
    "res = secondLargest(List, sortList)\n",
    "\n",
    "print(res)\n"
   ]
  },
  {
   "cell_type": "code",
   "execution_count": 37,
   "id": "8672a349-71cb-4d62-9524-fa3b8ae3ce14",
   "metadata": {},
   "outputs": [
    {
     "name": "stdout",
     "output_type": "stream",
     "text": [
      "[2, 4, 6, 8]\n"
     ]
    }
   ],
   "source": [
    "#(9)Explain the purpose and usage of the 'map()' function in python.\n",
    "#map() function returns a map object(which is an iterator) of the results after applying the given function to each item of a given iterable (list, tuple etc.)\n",
    "#Demonstration of map() in Python\n",
    "#In this example, we are demonstrating the map() function in Python .\n",
    "\n",
    "\n",
    "# Python program to demonstrate working\n",
    "# of map.\n",
    "\n",
    "# Return double of n\n",
    "def addition(n):\n",
    "    return n + n\n",
    "\n",
    "# We double all numbers using map()\n",
    "numbers = (1, 2, 3, 4)\n",
    "result = map(addition, numbers)\n",
    "print(list(result))"
   ]
  },
  {
   "cell_type": "code",
   "execution_count": 38,
   "id": "b3fa7ebf-8f4b-4d91-8082-37b9b1885222",
   "metadata": {},
   "outputs": [
    {
     "name": "stdout",
     "output_type": "stream",
     "text": [
      "[2, 4, 6, 8]\n"
     ]
    }
   ],
   "source": [
    "#map() with Lambda Expressions\n",
    "#We can also use lambda expressions with map to achieve above result. In this example, we are using map() with lambda expression.\n",
    "\n",
    "\n",
    "# Double all numbers using map and lambda\n",
    "\n",
    "numbers = (1, 2, 3, 4)\n",
    "result = map(lambda x: x + x, numbers)\n",
    "print(list(result))"
   ]
  },
  {
   "cell_type": "code",
   "execution_count": 39,
   "id": "272abe28-d795-4889-a251-f69d0baabe12",
   "metadata": {},
   "outputs": [
    {
     "name": "stdout",
     "output_type": "stream",
     "text": [
      "[5, 7, 9]\n"
     ]
    }
   ],
   "source": [
    "#Add Two Lists Using map and lambda\n",
    "#In this example, we are using map and lambda to add two lists.\n",
    "\n",
    "\n",
    "# Add two lists using map and lambda\n",
    "\n",
    "numbers1 = [1, 2, 3]\n",
    "numbers2 = [4, 5, 6]\n",
    "\n",
    "result = map(lambda x, y: x + y, numbers1, numbers2)\n",
    "print(list(result))"
   ]
  },
  {
   "cell_type": "code",
   "execution_count": 40,
   "id": "dc5e50db-e4e0-40b4-96c5-b84c81f24e82",
   "metadata": {},
   "outputs": [
    {
     "name": "stdout",
     "output_type": "stream",
     "text": [
      "[['s', 'a', 't'], ['b', 'a', 't'], ['c', 'a', 't'], ['m', 'a', 't']]\n"
     ]
    }
   ],
   "source": [
    "#Modify the String using map()\n",
    "#In this example, we are using map() function to modify the string. We can create a map from an iterable in Python.\n",
    "\n",
    "\n",
    "# List of strings\n",
    "l = ['sat', 'bat', 'cat', 'mat']\n",
    "\n",
    "# map() can listify the list of strings individually\n",
    "test = list(map(list, l))\n",
    "print(test)"
   ]
  },
  {
   "cell_type": "code",
   "execution_count": 41,
   "id": "5af0146f-411e-4c1d-99c5-1f209f31743c",
   "metadata": {},
   "outputs": [
    {
     "name": "stdout",
     "output_type": "stream",
     "text": [
      "[1, 4, 3, 8, 5]\n"
     ]
    }
   ],
   "source": [
    "#if Statement with map()\n",
    "#In the example, the double_even() function doubles even numbers and leaves odd numbers unchanged. The map() function is used to apply this function to each element of the numbers list, and an if statement is used within the function to perform the necessary conditional logic.\n",
    "\n",
    "\n",
    "# Define a function that doubles even numbers and leaves odd numbers as is\n",
    "def double_even(num):\n",
    "    if num % 2 == 0:\n",
    "        return num * 2\n",
    "    else:\n",
    "        return num\n",
    "\n",
    "# Create a list of numbers to apply the function to\n",
    "numbers = [1, 2, 3, 4, 5]\n",
    "\n",
    "# Use map to apply the function to each element in the list\n",
    "result = list(map(double_even, numbers))\n",
    "\n",
    "# Print the result\n",
    "print(result)  # [1, 4, 3, 8, 5]"
   ]
  },
  {
   "cell_type": "code",
   "execution_count": 45,
   "id": "66a1880d-a211-43a6-8b47-61ef8952ec7f",
   "metadata": {},
   "outputs": [
    {
     "name": "stdout",
     "output_type": "stream",
     "text": [
      "[10, 12, 14, 16]\n"
     ]
    }
   ],
   "source": [
    "#(Q10)What is the difference between 'map()','reduce()',and 'filter()' functions in python?\n",
    "#Map Function in Python\n",
    "#The map () function returns a map object(which is an iterator) of the results after applying the given function to each item of a given iterable (list, tuple, etc.).\n",
    "#Example: In this example, Python program showcases the usage of the map function to double each number in a given list by applying the double function to each element, and then printing the result as a list.\n",
    "\n",
    "\n",
    "# Function to return double of n\n",
    "def double(n):\n",
    "    return n * 2\n",
    "\n",
    "# Using map to double all numbers\n",
    "numbers = [5, 6, 7, 8]\n",
    "result = map(double, numbers)\n",
    "print(list(result))"
   ]
  },
  {
   "cell_type": "code",
   "execution_count": 46,
   "id": "ea9a2f14-3172-4d1a-bdc0-3fffca6ddf42",
   "metadata": {},
   "outputs": [
    {
     "name": "stdout",
     "output_type": "stream",
     "text": [
      "Product of list elements: 24\n"
     ]
    }
   ],
   "source": [
    "#Reduce Function in Python\n",
    "#The reduce function is used to apply a particular function passed in its argument to all of the list elements mentioned in the sequence passed along.This function is defined in “functools” module.\n",
    "#Example : In this example, we are using reduce() function from the functools module to compute the product of elements in a given list by continuously applying the lambda function that multiplies two numbers together, resulting in the final product.\n",
    "\n",
    "\n",
    "import functools\n",
    "\n",
    "# Define a list of numbers\n",
    "numbers = [1, 2, 3, 4]\n",
    "\n",
    "# Use reduce to compute the product of list elements\n",
    "product = functools.reduce(lambda x, y: x * y, numbers)\n",
    "print(\"Product of list elements:\", product)"
   ]
  },
  {
   "cell_type": "code",
   "execution_count": 47,
   "id": "0f955e25-4453-4f36-a0fb-c3cd4a9bdfbf",
   "metadata": {},
   "outputs": [
    {
     "name": "stdout",
     "output_type": "stream",
     "text": [
      "Even numbers: [2, 4, 6, 8, 10]\n"
     ]
    }
   ],
   "source": [
    "#Filter Function in Python\n",
    "#The filter() method filters the given sequence with the help of a function that tests each element in the sequence to be true or not. \n",
    "#Example : In this example, we defines a function is_even to check whether a number is even or not. Then, it applies the filter() function to a list of numbers to extract only the even numbers, resulting in a list containing only the even elements. Finally, it prints the list of even numbers.\n",
    "\n",
    "\n",
    "# Define a function to check if a number is even\n",
    "def is_even(n):\n",
    "    return n % 2 == 0\n",
    "\n",
    "# Define a list of numbers\n",
    "numbers = [1, 2, 3, 4, 5, 6, 7, 8, 9, 10]\n",
    "\n",
    "# Use filter to filter out even numbers\n",
    "even_numbers = filter(is_even, numbers)\n",
    "print(\"Even numbers:\", list(even_numbers)) "
   ]
  },
  {
   "cell_type": "code",
   "execution_count": 48,
   "id": "1a8a9617-eed7-429f-8dd4-0e0056368b6e",
   "metadata": {},
   "outputs": [],
   "source": [
    "#PRACTICAL QUESTIONS"
   ]
  },
  {
   "cell_type": "code",
   "execution_count": null,
   "id": "6a372037-8d8b-4ba2-b66a-39ebef1ae992",
   "metadata": {},
   "outputs": [],
   "source": [
    "#(Q1)"
   ]
  }
 ],
 "metadata": {
  "kernelspec": {
   "display_name": "Python 3 (ipykernel)",
   "language": "python",
   "name": "python3"
  },
  "language_info": {
   "codemirror_mode": {
    "name": "ipython",
    "version": 3
   },
   "file_extension": ".py",
   "mimetype": "text/x-python",
   "name": "python",
   "nbconvert_exporter": "python",
   "pygments_lexer": "ipython3",
   "version": "3.10.8"
  }
 },
 "nbformat": 4,
 "nbformat_minor": 5
}
